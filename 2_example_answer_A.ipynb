{
  "nbformat": 4,
  "nbformat_minor": 0,
  "metadata": {
    "colab": {
      "name": "2_example_answer_A.ipynb",
      "provenance": [],
      "collapsed_sections": [],
      "authorship_tag": "ABX9TyP1NVL4aMC0pEHzNsLXXuQr",
      "include_colab_link": true
    },
    "kernelspec": {
      "name": "python3",
      "display_name": "Python 3"
    }
  },
  "cells": [
    {
      "cell_type": "markdown",
      "metadata": {
        "id": "view-in-github",
        "colab_type": "text"
      },
      "source": [
        "<a href=\"https://colab.research.google.com/github/TTakino/worksample/blob/master/2_example_answer_A.ipynb\" target=\"_parent\"><img src=\"https://colab.research.google.com/assets/colab-badge.svg\" alt=\"Open In Colab\"/></a>"
      ]
    },
    {
      "cell_type": "code",
      "metadata": {
        "id": "xjuSZzfx_oGJ",
        "colab_type": "code",
        "outputId": "28fba579-9608-45a9-d9e9-b15ef1fa51b3",
        "colab": {
          "base_uri": "https://localhost:8080/",
          "height": 53
        }
      },
      "source": [
        "\"\"\"\n",
        "●問題の概要　紙を折って月まで届くプログラム\n",
        "\n",
        "1枚の紙を43回折り曲げた時の厚さを計算する　1回折ると、その度に厚さは2倍になるので、\n",
        " 　 　 　 　  紙1(2^0)枚の厚さ    0.00008 * 2**0\n",
        "  1回折ると   紙2(2^1)枚の厚さ    0.00008 * 2**1 \n",
        "  2回折ると   紙4(2^2)枚の厚さ    0.00008 * 2**2\n",
        "  ...\n",
        "  43回折ると  紙43(2^43)枚の厚さ  0.00008 * 2**43\n",
        "\n",
        "\"\"\"\n",
        "\n",
        "# 【問題1】 べき乗の算術演算子を使用して作成\n",
        "\n",
        "THICKNESS = 0.00008\n",
        "folded_thickness = THICKNESS * 2 ** 43\n",
        "print(\"厚さ：{}メートル\".format(folded_thickness)) \n",
        "  #　べき乗の演算子：**\n",
        "\n",
        "# ［別解］関数を作成し、x回折った厚さを求める\n",
        "def folded_thickness_function(x):\n",
        "  answer = THICKNESS * 2 ** x\n",
        "  return \"{}回折った厚さ：{}メートル\".format(x, answer)\n",
        "print(folded_thickness_function(43))"
      ],
      "execution_count": 0,
      "outputs": [
        {
          "output_type": "stream",
          "text": [
            "厚さ：703687441.77664メートル\n",
            "43回折った厚さ：703687441.77664メートル\n"
          ],
          "name": "stdout"
        }
      ]
    },
    {
      "cell_type": "code",
      "metadata": {
        "id": "xZ6ts5y1Dht3",
        "colab_type": "code",
        "outputId": "4d4ee376-11dd-4ff3-dd77-1355321a139c",
        "colab": {
          "base_uri": "https://localhost:8080/",
          "height": 35
        }
      },
      "source": [
        "# 【問題2】 単位の変換\n",
        "\n",
        "print(\"厚さ：　{:.2f}キロメートル\".format(folded_thickness/1000))\n",
        "  #　メートルを1000で割りキロメートルに変換して小数点以下2桁(.2f)で表示する"
      ],
      "execution_count": 0,
      "outputs": [
        {
          "output_type": "stream",
          "text": [
            "厚さ：　703687.44キロメートル\n"
          ],
          "name": "stdout"
        }
      ]
    },
    {
      "cell_type": "code",
      "metadata": {
        "id": "86Hk2MNObOQ-",
        "colab_type": "code",
        "outputId": "7dd9aa25-4c12-4084-b2d1-ee8f0cdcfceb",
        "colab": {
          "base_uri": "https://localhost:8080/",
          "height": 1000
        }
      },
      "source": [
        "# 【問題3】 for文を使用して作成\n",
        "  # 回答例1 2を掛けていく(2の累乗)をfor文で表す\n",
        "THICKNESS = 0.00008\n",
        "two_power = 1        # 2^0 = 1　2の累乗の最初の値\n",
        "\n",
        "for i in range(1,44):\n",
        "  two_power *= 2\n",
        "  print(\"{}回折った紙の厚さ：{:.2f}キロメートル\".format(i, THICKNESS * two_power / 1000))\n",
        "\n",
        "  # 回答例2 その数字自体を足す(折る)をfor文で表す\n",
        "folded_thickness = THICKNESS   # 最初の厚さ\n",
        "\n",
        "for i in range(1,44):\n",
        "  folded_thickness += folded_thickness\n",
        "  print(\"{}回折った紙の厚さ：{:.2f}キロメートル\".format(i, folded_thickness / 1000))\n",
        "\n",
        "\"\"\"\n",
        "●間違えやすい箇所\n",
        "range(1,44):[1, 2, 3, ..., 43]\n",
        "range(43)  :[0, 1, 2, ..., 42]　となるため注意\n",
        "\n",
        "for i in range(43)\n",
        "print(\"{}回折った紙の厚さ：{:.2f}キロメートル\".format(i+1, folded_thickness / 1000))\n",
        "としても良い\n",
        "\"\"\""
      ],
      "execution_count": 0,
      "outputs": [
        {
          "output_type": "stream",
          "text": [
            "1回折った紙の厚さ：0.00キロメートル\n",
            "2回折った紙の厚さ：0.00キロメートル\n",
            "3回折った紙の厚さ：0.00キロメートル\n",
            "4回折った紙の厚さ：0.00キロメートル\n",
            "5回折った紙の厚さ：0.00キロメートル\n",
            "6回折った紙の厚さ：0.00キロメートル\n",
            "7回折った紙の厚さ：0.00キロメートル\n",
            "8回折った紙の厚さ：0.00キロメートル\n",
            "9回折った紙の厚さ：0.00キロメートル\n",
            "10回折った紙の厚さ：0.00キロメートル\n",
            "11回折った紙の厚さ：0.00キロメートル\n",
            "12回折った紙の厚さ：0.00キロメートル\n",
            "13回折った紙の厚さ：0.00キロメートル\n",
            "14回折った紙の厚さ：0.00キロメートル\n",
            "15回折った紙の厚さ：0.00キロメートル\n",
            "16回折った紙の厚さ：0.01キロメートル\n",
            "17回折った紙の厚さ：0.01キロメートル\n",
            "18回折った紙の厚さ：0.02キロメートル\n",
            "19回折った紙の厚さ：0.04キロメートル\n",
            "20回折った紙の厚さ：0.08キロメートル\n",
            "21回折った紙の厚さ：0.17キロメートル\n",
            "22回折った紙の厚さ：0.34キロメートル\n",
            "23回折った紙の厚さ：0.67キロメートル\n",
            "24回折った紙の厚さ：1.34キロメートル\n",
            "25回折った紙の厚さ：2.68キロメートル\n",
            "26回折った紙の厚さ：5.37キロメートル\n",
            "27回折った紙の厚さ：10.74キロメートル\n",
            "28回折った紙の厚さ：21.47キロメートル\n",
            "29回折った紙の厚さ：42.95キロメートル\n",
            "30回折った紙の厚さ：85.90キロメートル\n",
            "31回折った紙の厚さ：171.80キロメートル\n",
            "32回折った紙の厚さ：343.60キロメートル\n",
            "33回折った紙の厚さ：687.19キロメートル\n",
            "34回折った紙の厚さ：1374.39キロメートル\n",
            "35回折った紙の厚さ：2748.78キロメートル\n",
            "36回折った紙の厚さ：5497.56キロメートル\n",
            "37回折った紙の厚さ：10995.12キロメートル\n",
            "38回折った紙の厚さ：21990.23キロメートル\n",
            "39回折った紙の厚さ：43980.47キロメートル\n",
            "40回折った紙の厚さ：87960.93キロメートル\n",
            "41回折った紙の厚さ：175921.86キロメートル\n",
            "42回折った紙の厚さ：351843.72キロメートル\n",
            "43回折った紙の厚さ：703687.44キロメートル\n",
            "1回折った紙の厚さ：0.00キロメートル\n",
            "2回折った紙の厚さ：0.00キロメートル\n",
            "3回折った紙の厚さ：0.00キロメートル\n",
            "4回折った紙の厚さ：0.00キロメートル\n",
            "5回折った紙の厚さ：0.00キロメートル\n",
            "6回折った紙の厚さ：0.00キロメートル\n",
            "7回折った紙の厚さ：0.00キロメートル\n",
            "8回折った紙の厚さ：0.00キロメートル\n",
            "9回折った紙の厚さ：0.00キロメートル\n",
            "10回折った紙の厚さ：0.00キロメートル\n",
            "11回折った紙の厚さ：0.00キロメートル\n",
            "12回折った紙の厚さ：0.00キロメートル\n",
            "13回折った紙の厚さ：0.00キロメートル\n",
            "14回折った紙の厚さ：0.00キロメートル\n",
            "15回折った紙の厚さ：0.00キロメートル\n",
            "16回折った紙の厚さ：0.01キロメートル\n",
            "17回折った紙の厚さ：0.01キロメートル\n",
            "18回折った紙の厚さ：0.02キロメートル\n",
            "19回折った紙の厚さ：0.04キロメートル\n",
            "20回折った紙の厚さ：0.08キロメートル\n",
            "21回折った紙の厚さ：0.17キロメートル\n",
            "22回折った紙の厚さ：0.34キロメートル\n",
            "23回折った紙の厚さ：0.67キロメートル\n",
            "24回折った紙の厚さ：1.34キロメートル\n",
            "25回折った紙の厚さ：2.68キロメートル\n",
            "26回折った紙の厚さ：5.37キロメートル\n",
            "27回折った紙の厚さ：10.74キロメートル\n",
            "28回折った紙の厚さ：21.47キロメートル\n",
            "29回折った紙の厚さ：42.95キロメートル\n",
            "30回折った紙の厚さ：85.90キロメートル\n",
            "31回折った紙の厚さ：171.80キロメートル\n",
            "32回折った紙の厚さ：343.60キロメートル\n",
            "33回折った紙の厚さ：687.19キロメートル\n",
            "34回折った紙の厚さ：1374.39キロメートル\n",
            "35回折った紙の厚さ：2748.78キロメートル\n",
            "36回折った紙の厚さ：5497.56キロメートル\n",
            "37回折った紙の厚さ：10995.12キロメートル\n",
            "38回折った紙の厚さ：21990.23キロメートル\n",
            "39回折った紙の厚さ：43980.47キロメートル\n",
            "40回折った紙の厚さ：87960.93キロメートル\n",
            "41回折った紙の厚さ：175921.86キロメートル\n",
            "42回折った紙の厚さ：351843.72キロメートル\n",
            "43回折った紙の厚さ：703687.44キロメートル\n"
          ],
          "name": "stdout"
        }
      ]
    },
    {
      "cell_type": "code",
      "metadata": {
        "id": "lIPMbBskB1n1",
        "colab_type": "code",
        "outputId": "6ec0fbc8-f2fa-453d-ca65-2512ff53f20f",
        "colab": {
          "base_uri": "https://localhost:8080/",
          "height": 109
        }
      },
      "source": [
        "# 【問題4】計算時間の比較\n",
        "\n",
        "THICKNESS = 0.00008\n",
        "\n",
        "  # ① べき乗の算術演算子\n",
        "import time\n",
        "start = time.time()\n",
        "folded_thickness = THICKNESS * 2 ** 43\n",
        "elapsed_time = time.time() - start\n",
        "print(\"time1 : {}[s]\".format(elapsed_time))\n",
        "\n",
        "  # ② for文_2を掛けていく方\n",
        "import time\n",
        "start = time.time()\n",
        "two_power = 1\n",
        "for i in range(1,44):\n",
        "  two_power *= 2\n",
        "elapsed_time = time.time() - start\n",
        "print(\"time2 : {}[s]\".format(elapsed_time))\n",
        "\n",
        "  # ③ for文_その数字自体を足す方\n",
        "import time\n",
        "start = time.time()\n",
        "folded_thickness = THICKNESS\n",
        "for i in range(1,44):\n",
        "  folded_thickness += folded_thickness\n",
        "elapsed_time = time.time() - start\n",
        "print(\"time3 : {}[s]\".format(elapsed_time))\n",
        "\n",
        "\"\"\"\n",
        "●計算時間の比較\n",
        "    time1  3.7908...e-05[s]\n",
        "    time2  5.1975...e-05[s]\n",
        "    time3  5.4121...e-05[s]\n",
        "  出力を省いた計算時間だと、time1の方がtime2, time3より早いことが分かるので、time1 の方が適した書き方である。\n",
        "  単純な計算であればfor文ではなく演算子を用いて計算をした方が良いことが分かる。\n",
        "\"\"\""
      ],
      "execution_count": 0,
      "outputs": [
        {
          "output_type": "stream",
          "text": [
            "time1 : 3.790855407714844e-05[s]\n",
            "time2 : 5.1975250244140625e-05[s]\n",
            "time3 : 5.412101745605469e-05[s]\n"
          ],
          "name": "stdout"
        },
        {
          "output_type": "execute_result",
          "data": {
            "text/plain": [
              "'\\n●計算時間の比較\\n    time1  3.3855...e-05[s]\\n    time2  5.5789...e-05[s]\\n    time3  5.1259...e-05[s]\\n  出力を省いた計算時間だと、time1の方がtime2, time3より早いことが分かるので、time1 の方が適した書き方である。\\n  単純な計算であればfor文ではなく演算子を用いて計算をした方が良いことが分かる。\\n'"
            ]
          },
          "metadata": {
            "tags": []
          },
          "execution_count": 11
        }
      ]
    },
    {
      "cell_type": "code",
      "metadata": {
        "id": "ZQgaxgHZMFeQ",
        "colab_type": "code",
        "outputId": "6bf641af-11f9-48fb-f29c-e6c0de9cd397",
        "colab": {
          "base_uri": "https://localhost:8080/",
          "height": 35
        }
      },
      "source": [
        "# 【問題5】リストへの保存\n",
        "\n",
        "THICKNESS = folded_thickness = 0.00008\n",
        "thickness = []\n",
        "thickness.append(THICKNESS)\n",
        "  # 空のリスト thickness を作成し、折る前に値をリストに追加\n",
        "\n",
        "for i in range(1,44):\n",
        "  folded_thickness += folded_thickness\n",
        "  thickness.append(folded_thickness)\n",
        "  # for文で追った値を作成し、リストに追加\n",
        "\n",
        "print(len(thickness))\n",
        "  # 44個の値がリストに入っていることを確認"
      ],
      "execution_count": 0,
      "outputs": [
        {
          "output_type": "stream",
          "text": [
            "44\n"
          ],
          "name": "stdout"
        }
      ]
    },
    {
      "cell_type": "code",
      "metadata": {
        "id": "j9-cBw7qnr7w",
        "colab_type": "code",
        "outputId": "a890290e-342c-4cb8-8dc3-95e77b80b7db",
        "colab": {
          "base_uri": "https://localhost:8080/",
          "height": 313
        }
      },
      "source": [
        "# 【問題6】 折れ線グラフの表示\n",
        "\n",
        "import matplotlib.pyplot as plt\n",
        "%matplotlib inline\n",
        "\n",
        "plt.title(\"thickness of folded paper\")\n",
        "plt.xlabel(\"number of folds\")\n",
        "plt.ylabel(\"thickness[m]\")\n",
        "plt.plot(thickness, color='red')"
      ],
      "execution_count": 0,
      "outputs": [
        {
          "output_type": "execute_result",
          "data": {
            "text/plain": [
              "[<matplotlib.lines.Line2D at 0x7ff38ff780f0>]"
            ]
          },
          "metadata": {
            "tags": []
          },
          "execution_count": 31
        },
        {
          "output_type": "display_data",
          "data": {
            "image/png": "[encoded data removed]",
            "text/plain": [
              "<Figure size 432x288 with 1 Axes>"
            ]
          },
          "metadata": {
            "tags": [],
            "needs_background": "light"
          }
        }
      ]
    },
    {
      "cell_type": "code",
      "metadata": {
        "id": "nit0VCL8ye-n",
        "colab_type": "code",
        "outputId": "142cac2f-9ddd-412d-eea1-812ea292cf65",
        "colab": {
          "base_uri": "https://localhost:8080/",
          "height": 322
        }
      },
      "source": [
        "plt.title(\"thickness of folded paper\")\n",
        "plt.xlabel(\"number of folds\")\n",
        "plt.ylabel(\"thickness[m]\")\n",
        "plt.tick_params(labelsize=20)\n",
        "plt.plot(thickness)\n",
        "  # サンプルコードを元に軸の値をフォントサイズを大きくしたもの"
      ],
      "execution_count": 0,
      "outputs": [
        {
          "output_type": "execute_result",
          "data": {
            "text/plain": [
              "[<matplotlib.lines.Line2D at 0x7ff38ffc79e8>]"
            ]
          },
          "metadata": {
            "tags": []
          },
          "execution_count": 30
        },
        {
          "output_type": "display_data",
          "data": {
            "image/png": "[encoded data removed]",
            "text/plain": [
              "<Figure size 432x288 with 1 Axes>"
            ]
          },
          "metadata": {
            "tags": [],
            "needs_background": "light"
          }
        }
      ]
    },
    {
      "cell_type": "code",
      "metadata": {
        "id": "U20XEjtp02QK",
        "colab_type": "code",
        "colab": {}
      },
      "source": [
        "\"\"\"\n",
        "●改善案作成\n",
        "　紙を追ったら何回で月に到達するかを調べるプログラム作成(while文使用)\n",
        "\n",
        "この課題に対する改善ではありませんが、[DIVER]のPython基礎文法を用いて学習いたしました。\n",
        "その際に、少し記述ミスがあるように思いました。（もしかしたら私の誤認識かもしれません）\n",
        "必要ありましたら、お伝えいたします。\n",
        "\"\"\""
      ],
      "execution_count": 0,
      "outputs": []
    }
  ]
}