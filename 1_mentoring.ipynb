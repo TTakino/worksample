{
  "nbformat": 4,
  "nbformat_minor": 0,
  "metadata": {
    "colab": {
      "name": "1_mentoring",
      "provenance": [],
      "authorship_tag": "ABX9TyOa7inELNTPMwop6PtbNQBS",
      "include_colab_link": true
    },
    "kernelspec": {
      "name": "python3",
      "display_name": "Python 3"
    }
  },
  "cells": [
    {
      "cell_type": "markdown",
      "metadata": {
        "id": "view-in-github",
        "colab_type": "text"
      },
      "source": [
        "<a href=\"https://colab.research.google.com/github/TTakino/worksample/blob/master/1_mentoring.ipynb\" target=\"_parent\"><img src=\"https://colab.research.google.com/assets/colab-badge.svg\" alt=\"Open In Colab\"/></a>"
      ]
    },
    {
      "cell_type": "markdown",
      "metadata": {
        "id": "V7IeTWhBkm__",
        "colab_type": "text"
      },
      "source": [
        "##メンタリング質問対応\n",
        "\n",
        "**1. 質問対応**\n",
        "\n",
        "次の順序で質問に対応していき、どこが間違っていると思うかなどを確認しながら、少しずつヒントを出して考えてもらいます。\n",
        "\n",
        "  - 間違っている箇所を指摘\n",
        "```python\n",
        "a = np.array([[-1, 2, 3]])\n",
        "b = np,array([[0, 2, 1]])\n",
        "\n",
        "  - 間違っている内容を指摘\n",
        "    - リストの入力方法の確認を促す \n",
        "  \n",
        "どの段階で訂正が完了したとしても、念のために間違いを直した後に「何故間違ってしまったと思うか」と理由を尋ね、私の認識とずれがないかを確認し、気づいてない場合や違いがあった場合には説明します。\n",
        "<br><br>\n",
        "**2. 間違えやすい理由**\n",
        "\n",
        "\n",
        "| 配列 | code |\n",
        "| ------- | --------------------- |\n",
        "|\\begin{pmatrix}1 & 2\\end{pmatrix}|`np.array([1, 2])`|\n",
        "|\\begin{pmatrix}1 & 2 \\\\ 3 & 4\\end{pmatrix}|`np.array([[1, 2],[3, 4]])`|\n",
        "|\\begin{pmatrix}1 & 2 & 3 \\\\ 4 & 5 & 6\\end{pmatrix}|`np.array([[1, 2, 3],[4, 5, 6]])`|\n",
        "　　\n",
        "\n",
        "2行以上の配列になると`([[1, 2],[3, 4]])`のように`[ ]`が行と列を区切るために重複しますが、1行の時はその必要がないため、誤った記載につながったと考えられます。実際にイメージがつかみやすいように、配列を紙に書いたり、コードの比較をしたりして違いに気づいてもらいます。行列自体に不安があるようであれば、ドット積の求め方などにも触れて行列についての理解を図ります。\n",
        "\n"
      ]
    }
  ]
}